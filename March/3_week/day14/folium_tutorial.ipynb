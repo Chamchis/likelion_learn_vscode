{
 "cells": [
  {
   "cell_type": "markdown",
   "metadata": {},
   "source": [
    "# Folium\n",
    "- `leaflet.js`을 기반으로 지도를 그려주는 Python 시각화 패키지\n",
    "- 모바일에서도 쓸 수 있을 만큼 가벼움\n",
    "- `pandas`와 쉽게 연동하여 간편하게 시각화 가능\n",
    "- 위치 좌표계 값을 지도 위에 시각화 할 수 있음"
   ]
  },
  {
   "cell_type": "markdown",
   "metadata": {},
   "source": [
    "## Map\n",
    "- `folium`의 `Map` 클래스를 통해 지도의 범위를 지정\n",
    "- `location` 속성으로 지도의 정중앙 좌표를 설정\n",
    "- `zoom_start` 속성으로 배율 설정\n",
    "- `folium.Map.save()`를 이용해서 `html` 형식으로 저장 가능"
   ]
  },
  {
   "cell_type": "markdown",
   "metadata": {},
   "source": [
    "### Map 활용 예시\n",
    "- Google 지도 활용 : 구글 지도에서 검색 장소 검색 시 주소창에 나오는 좌표계 값 활용"
   ]
  },
  {
   "cell_type": "code",
   "execution_count": 6,
   "metadata": {},
   "outputs": [],
   "source": [
    "import folium\n",
    "\n",
    "m = folium.Map(\n",
    "    location=[37.572389, 126.9769117],\n",
    "    zoom_start=20)\n",
    "folium.Marker(\n",
    "    location=[37.572389, 126.9769117],\n",
    "    popup='광화문',\n",
    "    icon=folium.Icon(color='red',icon='star')\n",
    ").add_to(m)\n",
    "\n",
    "m.save('map.html')"
   ]
  },
  {
   "cell_type": "code",
   "execution_count": 7,
   "metadata": {},
   "outputs": [],
   "source": [
    "위도 = 37.572389\n",
    "경도 = 126.9769117\n",
    "label = '광화문'\n"
   ]
  },
  {
   "cell_type": "code",
   "execution_count": null,
   "metadata": {},
   "outputs": [],
   "source": [
    "import folium\n",
    "\n",
    "m = folium.Map(\n",
    "    location=[위도,경도],\n",
    "    zoom_start=20)\n",
    "folium.Marker(\n",
    "    location=[위도,경도],\n",
    "    popup='광화문',\n",
    "    icon=folium.Icon(color='red',icon='star')\n",
    ").add_to(m)\n",
    "\n",
    "m.save('map.html')"
   ]
  }
 ],
 "metadata": {
  "kernelspec": {
   "display_name": "myenv",
   "language": "python",
   "name": "python3"
  },
  "language_info": {
   "codemirror_mode": {
    "name": "ipython",
    "version": 3
   },
   "file_extension": ".py",
   "mimetype": "text/x-python",
   "name": "python",
   "nbconvert_exporter": "python",
   "pygments_lexer": "ipython3",
   "version": "3.10.13"
  }
 },
 "nbformat": 4,
 "nbformat_minor": 2
}
